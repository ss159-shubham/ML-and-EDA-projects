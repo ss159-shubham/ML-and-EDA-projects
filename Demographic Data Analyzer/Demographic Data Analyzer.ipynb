{
 "cells": [
  {
   "cell_type": "code",
   "execution_count": 17,
   "id": "87a1288c-ce48-4d96-baaf-d28e1b731594",
   "metadata": {},
   "outputs": [],
   "source": [
    "import pandas as pd"
   ]
  },
  {
   "cell_type": "code",
   "execution_count": 18,
   "id": "b5868aeb-0fba-4d70-8f54-9a1658f5d621",
   "metadata": {
    "scrolled": true
   },
   "outputs": [
    {
     "data": {
      "text/html": [
       "<div>\n",
       "<style scoped>\n",
       "    .dataframe tbody tr th:only-of-type {\n",
       "        vertical-align: middle;\n",
       "    }\n",
       "\n",
       "    .dataframe tbody tr th {\n",
       "        vertical-align: top;\n",
       "    }\n",
       "\n",
       "    .dataframe thead th {\n",
       "        text-align: right;\n",
       "    }\n",
       "</style>\n",
       "<table border=\"1\" class=\"dataframe\">\n",
       "  <thead>\n",
       "    <tr style=\"text-align: right;\">\n",
       "      <th></th>\n",
       "      <th>age</th>\n",
       "      <th>workclass</th>\n",
       "      <th>fnlwgt</th>\n",
       "      <th>education</th>\n",
       "      <th>education-num</th>\n",
       "      <th>marital-status</th>\n",
       "      <th>occupation</th>\n",
       "      <th>relationship</th>\n",
       "      <th>race</th>\n",
       "      <th>sex</th>\n",
       "      <th>capital-gain</th>\n",
       "      <th>capital-loss</th>\n",
       "      <th>hours-per-week</th>\n",
       "      <th>native-country</th>\n",
       "      <th>salary</th>\n",
       "    </tr>\n",
       "  </thead>\n",
       "  <tbody>\n",
       "    <tr>\n",
       "      <th>0</th>\n",
       "      <td>39</td>\n",
       "      <td>State-gov</td>\n",
       "      <td>77516</td>\n",
       "      <td>Bachelors</td>\n",
       "      <td>13</td>\n",
       "      <td>Never-married</td>\n",
       "      <td>Adm-clerical</td>\n",
       "      <td>Not-in-family</td>\n",
       "      <td>White</td>\n",
       "      <td>Male</td>\n",
       "      <td>2174</td>\n",
       "      <td>0</td>\n",
       "      <td>40</td>\n",
       "      <td>United-States</td>\n",
       "      <td>&lt;=50K</td>\n",
       "    </tr>\n",
       "    <tr>\n",
       "      <th>1</th>\n",
       "      <td>50</td>\n",
       "      <td>Self-emp-not-inc</td>\n",
       "      <td>83311</td>\n",
       "      <td>Bachelors</td>\n",
       "      <td>13</td>\n",
       "      <td>Married-civ-spouse</td>\n",
       "      <td>Exec-managerial</td>\n",
       "      <td>Husband</td>\n",
       "      <td>White</td>\n",
       "      <td>Male</td>\n",
       "      <td>0</td>\n",
       "      <td>0</td>\n",
       "      <td>13</td>\n",
       "      <td>United-States</td>\n",
       "      <td>&lt;=50K</td>\n",
       "    </tr>\n",
       "    <tr>\n",
       "      <th>2</th>\n",
       "      <td>38</td>\n",
       "      <td>Private</td>\n",
       "      <td>215646</td>\n",
       "      <td>HS-grad</td>\n",
       "      <td>9</td>\n",
       "      <td>Divorced</td>\n",
       "      <td>Handlers-cleaners</td>\n",
       "      <td>Not-in-family</td>\n",
       "      <td>White</td>\n",
       "      <td>Male</td>\n",
       "      <td>0</td>\n",
       "      <td>0</td>\n",
       "      <td>40</td>\n",
       "      <td>United-States</td>\n",
       "      <td>&lt;=50K</td>\n",
       "    </tr>\n",
       "    <tr>\n",
       "      <th>3</th>\n",
       "      <td>53</td>\n",
       "      <td>Private</td>\n",
       "      <td>234721</td>\n",
       "      <td>11th</td>\n",
       "      <td>7</td>\n",
       "      <td>Married-civ-spouse</td>\n",
       "      <td>Handlers-cleaners</td>\n",
       "      <td>Husband</td>\n",
       "      <td>Black</td>\n",
       "      <td>Male</td>\n",
       "      <td>0</td>\n",
       "      <td>0</td>\n",
       "      <td>40</td>\n",
       "      <td>United-States</td>\n",
       "      <td>&lt;=50K</td>\n",
       "    </tr>\n",
       "    <tr>\n",
       "      <th>4</th>\n",
       "      <td>28</td>\n",
       "      <td>Private</td>\n",
       "      <td>338409</td>\n",
       "      <td>Bachelors</td>\n",
       "      <td>13</td>\n",
       "      <td>Married-civ-spouse</td>\n",
       "      <td>Prof-specialty</td>\n",
       "      <td>Wife</td>\n",
       "      <td>Black</td>\n",
       "      <td>Female</td>\n",
       "      <td>0</td>\n",
       "      <td>0</td>\n",
       "      <td>40</td>\n",
       "      <td>Cuba</td>\n",
       "      <td>&lt;=50K</td>\n",
       "    </tr>\n",
       "  </tbody>\n",
       "</table>\n",
       "</div>"
      ],
      "text/plain": [
       "   age         workclass  fnlwgt  education  education-num  \\\n",
       "0   39         State-gov   77516  Bachelors             13   \n",
       "1   50  Self-emp-not-inc   83311  Bachelors             13   \n",
       "2   38           Private  215646    HS-grad              9   \n",
       "3   53           Private  234721       11th              7   \n",
       "4   28           Private  338409  Bachelors             13   \n",
       "\n",
       "       marital-status         occupation   relationship   race     sex  \\\n",
       "0       Never-married       Adm-clerical  Not-in-family  White    Male   \n",
       "1  Married-civ-spouse    Exec-managerial        Husband  White    Male   \n",
       "2            Divorced  Handlers-cleaners  Not-in-family  White    Male   \n",
       "3  Married-civ-spouse  Handlers-cleaners        Husband  Black    Male   \n",
       "4  Married-civ-spouse     Prof-specialty           Wife  Black  Female   \n",
       "\n",
       "   capital-gain  capital-loss  hours-per-week native-country salary  \n",
       "0          2174             0              40  United-States  <=50K  \n",
       "1             0             0              13  United-States  <=50K  \n",
       "2             0             0              40  United-States  <=50K  \n",
       "3             0             0              40  United-States  <=50K  \n",
       "4             0             0              40           Cuba  <=50K  "
      ]
     },
     "execution_count": 18,
     "metadata": {},
     "output_type": "execute_result"
    }
   ],
   "source": [
    "df = pd.read_csv('adult.data.csv')\n",
    "df.head()"
   ]
  },
  {
   "cell_type": "markdown",
   "id": "991c9183-b218-4e84-af4f-ba4e2356ca9f",
   "metadata": {},
   "source": [
    " > # *race representation* ---\n"
   ]
  },
  {
   "cell_type": "code",
   "execution_count": 19,
   "id": "054a09b7-4882-4487-893e-5dae1b6ae74d",
   "metadata": {},
   "outputs": [
    {
     "data": {
      "text/html": [
       "<div>\n",
       "<style scoped>\n",
       "    .dataframe tbody tr th:only-of-type {\n",
       "        vertical-align: middle;\n",
       "    }\n",
       "\n",
       "    .dataframe tbody tr th {\n",
       "        vertical-align: top;\n",
       "    }\n",
       "\n",
       "    .dataframe thead th {\n",
       "        text-align: right;\n",
       "    }\n",
       "</style>\n",
       "<table border=\"1\" class=\"dataframe\">\n",
       "  <thead>\n",
       "    <tr style=\"text-align: right;\">\n",
       "      <th></th>\n",
       "      <th>race</th>\n",
       "    </tr>\n",
       "  </thead>\n",
       "  <tbody>\n",
       "    <tr>\n",
       "      <th>White</th>\n",
       "      <td>27816</td>\n",
       "    </tr>\n",
       "    <tr>\n",
       "      <th>Black</th>\n",
       "      <td>3124</td>\n",
       "    </tr>\n",
       "    <tr>\n",
       "      <th>Asian-Pac-Islander</th>\n",
       "      <td>1039</td>\n",
       "    </tr>\n",
       "    <tr>\n",
       "      <th>Amer-Indian-Eskimo</th>\n",
       "      <td>311</td>\n",
       "    </tr>\n",
       "    <tr>\n",
       "      <th>Other</th>\n",
       "      <td>271</td>\n",
       "    </tr>\n",
       "  </tbody>\n",
       "</table>\n",
       "</div>"
      ],
      "text/plain": [
       "                     race\n",
       "White               27816\n",
       "Black                3124\n",
       "Asian-Pac-Islander   1039\n",
       "Amer-Indian-Eskimo    311\n",
       "Other                 271"
      ]
     },
     "execution_count": 19,
     "metadata": {},
     "output_type": "execute_result"
    }
   ],
   "source": [
    "race = df.filter(items = [\"race\"])\n",
    "\n",
    "race_data = [\n",
    "    race[race == 'White'].count(),\n",
    "    race[race == 'Black'].count(),\n",
    "    race[race == 'Asian-Pac-Islander'].count(),\n",
    "    race[race == 'Amer-Indian-Eskimo'].count(),\n",
    "    race[race == 'Other'].count()\n",
    "    ]\n",
    "\n",
    "pd.DataFrame(race_data , index = ['White' , 'Black', 'Asian-Pac-Islander', 'Amer-Indian-Eskimo', 'Other'])"
   ]
  },
  {
   "cell_type": "markdown",
   "id": "8cc348af-029e-479d-9cb0-19d5846bdcba",
   "metadata": {},
   "source": [
    "> # *average age of men* ---"
   ]
  },
  {
   "cell_type": "code",
   "execution_count": 20,
   "id": "586b0dda-f4bf-44ab-9738-916daddac4ee",
   "metadata": {},
   "outputs": [
    {
     "data": {
      "text/plain": [
       "39.43354749885268"
      ]
     },
     "execution_count": 20,
     "metadata": {},
     "output_type": "execute_result"
    }
   ],
   "source": [
    "df[df['sex'] == 'Male']['age'].mean()"
   ]
  },
  {
   "cell_type": "markdown",
   "id": "ea0faba5-7c45-452a-bbcb-6512970773d0",
   "metadata": {},
   "source": [
    "> # *Bachelor's degree* % ---"
   ]
  },
  {
   "cell_type": "code",
   "execution_count": 21,
   "id": "5b9d1413-530e-4183-baf8-ca402ed08cb6",
   "metadata": {},
   "outputs": [
    {
     "name": "stdout",
     "output_type": "stream",
     "text": [
      "16.44605509658794\n"
     ]
    }
   ],
   "source": [
    "total_bachelors_degree = df[df['education'] == 'Bachelors']['education'].count()\n",
    "total_data = df['education'].count()\n",
    "percentage = (total_bachelors_degree / total_data) * 100\n",
    "print(percentage)"
   ]
  },
  {
   "cell_type": "markdown",
   "id": "099b8458-abef-475a-97d3-3ea1bb384d23",
   "metadata": {},
   "source": [
    "> # *people with advanced education (Bachelors, Masters, or Doctorate) make more than 50K?*"
   ]
  },
  {
   "cell_type": "code",
   "execution_count": 22,
   "id": "b5eac7e7-4fbe-48b5-93ec-8cbfc0f9c9a7",
   "metadata": {},
   "outputs": [],
   "source": [
    "higher_education = df[df['education'].isin(['Bachelors', 'Masters', 'Doctorate'])]\n",
    "high_edu_above_50k = df[(df['education'].isin(['Bachelors', 'Masters', 'Doctorate'])) & (df['salary'] == '>50K')]"
   ]
  },
  {
   "cell_type": "code",
   "execution_count": 23,
   "id": "bf33ddfc-71da-4e45-8a8e-57d18b781746",
   "metadata": {},
   "outputs": [
    {
     "name": "stdout",
     "output_type": "stream",
     "text": [
      "46.5\n"
     ]
    }
   ],
   "source": [
    "percentage_above_50k_high_edu = round((len(high_edu_above_50k)/len(higher_education)) * 100,1)\n",
    "print(percentage_above_50k_high_edu)"
   ]
  },
  {
   "cell_type": "markdown",
   "id": "6f3dc026-f224-4b98-91e4-f052f85913f9",
   "metadata": {},
   "source": [
    "> # *people without advanced education (Bachelors, Masters, or Doctorate) make more than 50K?*"
   ]
  },
  {
   "cell_type": "code",
   "execution_count": 24,
   "id": "c8b4e154-4ccd-446b-8e4e-232ae962da55",
   "metadata": {},
   "outputs": [],
   "source": [
    "lower_education =  df[~df['education'].isin(['Bachelors', 'Masters', 'Doctorate'])]\n",
    "low_edu_above_50k = df[(~df['education'].isin(['Bachelors', 'Masters', 'Doctorate'])) & (df['salary'] == '>50K')]"
   ]
  },
  {
   "cell_type": "code",
   "execution_count": 25,
   "id": "f0960c81-e8c4-4736-8707-08ff409a2419",
   "metadata": {},
   "outputs": [
    {
     "name": "stdout",
     "output_type": "stream",
     "text": [
      "17.3713601914639\n"
     ]
    }
   ],
   "source": [
    "percentage_above_50k_low_edu = (len(low_edu_above_50k) / len(lower_education)) * 100\n",
    "print(percentage_above_50k_low_edu)"
   ]
  },
  {
   "cell_type": "markdown",
   "id": "b4ce2b0c-d05e-4e61-892b-317bc60f8827",
   "metadata": {},
   "source": [
    "> # *minimum number of hours a person works per week?*"
   ]
  },
  {
   "cell_type": "code",
   "execution_count": 26,
   "id": "8928c4b9-01a3-4a14-b7ea-f38434f2aa8a",
   "metadata": {},
   "outputs": [
    {
     "name": "stdout",
     "output_type": "stream",
     "text": [
      "1\n"
     ]
    }
   ],
   "source": [
    "min_num_of_hrs = df['hours-per-week'].min()\n",
    "print(min_num_of_hrs)"
   ]
  },
  {
   "cell_type": "markdown",
   "id": "5fad90b4-4616-4860-af4e-777b802b7148",
   "metadata": {},
   "source": [
    "> # *people who work the minimum number of hours per week have a salary of more than 50K?*"
   ]
  },
  {
   "cell_type": "code",
   "execution_count": 27,
   "id": "5a6596e9-b42f-4ca8-91c8-84c27587fa47",
   "metadata": {},
   "outputs": [
    {
     "name": "stdout",
     "output_type": "stream",
     "text": [
      "10.0\n",
      "20\n"
     ]
    }
   ],
   "source": [
    "min_hr_more_then_50k = df[(df['hours-per-week'] == min_num_of_hrs) & (df['salary'] == '>50K')]\n",
    "min_hr =  df[(df['hours-per-week'] == min_num_of_hrs)]\n",
    "\n",
    "\n",
    "min_hr_more_then_50k_percent = (len(min_hr_more_then_50k)/len(min_hr)) * 100\n",
    "print(min_hr_more_then_50k_percent)\n",
    "print(len(min_hr))"
   ]
  },
  {
   "cell_type": "markdown",
   "id": "0a6c2103-52b0-4458-a9ac-c94fc9bbf9c8",
   "metadata": {},
   "source": [
    "> # *What country has the highest percentage of people that earn >50K and what is that percentage?*"
   ]
  },
  {
   "cell_type": "code",
   "execution_count": 28,
   "id": "f1406355-954c-49cc-a246-7fae310033ed",
   "metadata": {
    "scrolled": true
   },
   "outputs": [
    {
     "name": "stdout",
     "output_type": "stream",
     "text": [
      "['United-States', 'Cuba', 'Jamaica', 'India', '?', 'Mexico', 'South', 'Puerto-Rico', 'Honduras', 'England', 'Canada', 'Germany', 'Iran', 'Philippines', 'Italy', 'Poland', 'Columbia', 'Cambodia', 'Thailand', 'Ecuador', 'Laos', 'Taiwan', 'Haiti', 'Portugal', 'Dominican-Republic', 'El-Salvador', 'France', 'Guatemala', 'China', 'Japan', 'Yugoslavia', 'Peru', 'Outlying-US(Guam-USVI-etc)', 'Scotland', 'Trinadad&Tobago', 'Greece', 'Nicaragua', 'Vietnam', 'Hong', 'Ireland', 'Hungary', 'Holand-Netherlands']\n"
     ]
    }
   ],
   "source": [
    "all_countries = list(df['native-country'].drop_duplicates())\n",
    "print(all_countries)"
   ]
  },
  {
   "cell_type": "code",
   "execution_count": 29,
   "id": "9c44e1c4-3473-4d6a-8fa0-cdebfd93ecbb",
   "metadata": {},
   "outputs": [],
   "source": [
    "percent_per_population = []\n",
    "total_population = []\n",
    "salary_above_50k = []\n",
    "for i in all_countries:\n",
    "    people_above_50k = len(df[(df['native-country'] == i) & (df['salary'] == '>50K')])\n",
    "    total_people_per_country = len(df[df['native-country'] == i])\n",
    "    \n",
    "    if total_people_per_country == 0:\n",
    "        percentage_of_peoples = 0\n",
    "    else:\n",
    "        percentage_of_peoples = (people_above_50k / total_people_per_country) * 100\n",
    "        \n",
    "    percent_per_population.append(percentage_of_peoples)\n",
    "    total_population.append(total_people_per_country)\n",
    "    salary_above_50k.append(people_above_50k)\n",
    "    \n",
    "#print(countries_above_50k_list)    "
   ]
  },
  {
   "cell_type": "code",
   "execution_count": 30,
   "id": "68479073-fd74-4b8a-af34-004a11c9d07f",
   "metadata": {},
   "outputs": [],
   "source": [
    "countries_above_50k = pd.DataFrame({\n",
    "    'percent_per_population': percent_per_population,\n",
    "    'total_population': total_population,\n",
    "    'salary_above_50k': salary_above_50k\n",
    "}, index = [all_countries])\n",
    "#print(countries_above_50k)"
   ]
  },
  {
   "cell_type": "code",
   "execution_count": 31,
   "id": "dadb8540-5a72-4a79-8dd8-76c48043002a",
   "metadata": {},
   "outputs": [
    {
     "name": "stdout",
     "output_type": "stream",
     "text": [
      "Iran\n",
      "41.86046511627907\n"
     ]
    }
   ],
   "source": [
    "top_country = countries_above_50k['percent_per_population'].idxmax()[0]\n",
    "print(top_country)\n",
    "top_country_value = countries_above_50k['percent_per_population'].max()\n",
    "print(top_country_value)"
   ]
  },
  {
   "cell_type": "markdown",
   "id": "1f4e8499-eba8-4160-b579-91b3bcc11eb7",
   "metadata": {},
   "source": [
    "> # *the most popular occupation for those who earn >50K in India.*"
   ]
  },
  {
   "cell_type": "code",
   "execution_count": 32,
   "id": "f69f3680-b47d-4ba4-a5ac-50c4e10b6d05",
   "metadata": {},
   "outputs": [
    {
     "name": "stdout",
     "output_type": "stream",
     "text": [
      "Prof-specialty\n"
     ]
    }
   ],
   "source": [
    "indian_above_50k = df[(df['native-country'] == 'India') & (df['salary'] == '>50K')]\n",
    "print(indian_above_50k['occupation'].value_counts().idxmax())"
   ]
  }
 ],
 "metadata": {
  "kernelspec": {
   "display_name": "Python 3 (ipykernel)",
   "language": "python",
   "name": "python3"
  },
  "language_info": {
   "codemirror_mode": {
    "name": "ipython",
    "version": 3
   },
   "file_extension": ".py",
   "mimetype": "text/x-python",
   "name": "python",
   "nbconvert_exporter": "python",
   "pygments_lexer": "ipython3",
   "version": "3.12.4"
  }
 },
 "nbformat": 4,
 "nbformat_minor": 5
}
